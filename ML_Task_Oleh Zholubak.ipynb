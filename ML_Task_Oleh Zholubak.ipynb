{
 "cells": [
  {
   "cell_type": "markdown",
   "id": "903d9644",
   "metadata": {},
   "source": [
    "### 1. Importing everything we need"
   ]
  },
  {
   "cell_type": "code",
   "execution_count": null,
   "id": "6b86f2d3",
   "metadata": {},
   "outputs": [],
   "source": [
    "import numpy as np\n",
    "import matplotlib.pyplot as plt\n",
    "from matplotlib.colors import ListedColormap\n",
    "\n",
    "from sklearn.datasets import load_iris\n",
    "from sklearn.ensemble import RandomForestClassifier\n",
    "from sklearn.naive_bayes import GaussianNB\n",
    "from sklearn.preprocessing import StandardScaler\n",
    "from sklearn.decomposition import PCA\n",
    "from sklearn.model_selection import train_test_split\n",
    "from sklearn.metrics import classification_report, confusion_matrix"
   ]
  },
  {
   "cell_type": "markdown",
   "id": "73b75475",
   "metadata": {},
   "source": [
    "### A function that draws graphs"
   ]
  },
  {
   "cell_type": "code",
   "execution_count": null,
   "id": "0406df83",
   "metadata": {},
   "outputs": [],
   "source": [
    "def make_graphic(model, name, X, Y):\n",
    "    color_dots = ListedColormap([plt.cm.Set1(0), plt.cm.Set1(4), plt.cm.Set1(1)])\n",
    "    color_background = ListedColormap([plt.cm.Pastel1(0), plt.cm.Pastel1(5), plt.cm.Pastel1(1)])\n",
    "    \n",
    "    plt.figure(name, figsize = (8, 6))\n",
    "    x = np.linspace(-3, 2.5, 1000)\n",
    "    y = np.linspace(-3, 2, 1000)\n",
    "    xx, yy = np.meshgrid(x, y)\n",
    "    xy = np.vstack([xx.ravel(), yy.ravel()]).T\n",
    "    z = model.predict(xy).reshape(xx.shape)\n",
    "    \n",
    "    plt.contourf(xx, yy, z, cmap=color_background)\n",
    "    plt.scatter(X[:, 0], X[:, 1], c = Y, cmap=color_dots)"
   ]
  },
  {
   "cell_type": "markdown",
   "id": "78a2fb49",
   "metadata": {},
   "source": [
    "### 2. Formulating training and test selections"
   ]
  },
  {
   "cell_type": "code",
   "execution_count": 3,
   "id": "4fb20ba9",
   "metadata": {},
   "outputs": [],
   "source": [
    "iris = load_iris()\n",
    "\n",
    "X, y = iris.data, iris.target\n",
    "X_train, X_test, y_train, y_test = train_test_split(X, y,\n",
    "                                   shuffle = True, test_size=0.33, random_state = 0, stratify = y)"
   ]
  },
  {
   "cell_type": "markdown",
   "id": "9ad2f079",
   "metadata": {},
   "source": [
    "### 3. Preprocessing data"
   ]
  },
  {
   "cell_type": "code",
   "execution_count": 4,
   "id": "54b4997e",
   "metadata": {},
   "outputs": [],
   "source": [
    "scaler = StandardScaler().fit(X_train)\n",
    "X_train = scaler.transform(X_train)\n",
    "X_test = scaler.transform(X_test)\n",
    "\n",
    "pca = PCA(n_components = 2).fit(X_train)\n",
    "X_train = pca.transform(X_train)\n",
    "X_test = pca.transform(X_test)"
   ]
  },
  {
   "cell_type": "markdown",
   "id": "0c766b79",
   "metadata": {},
   "source": [
    "### 4.1 Random Forest"
   ]
  },
  {
   "cell_type": "code",
   "execution_count": 5,
   "id": "16709a55",
   "metadata": {},
   "outputs": [
    {
     "data": {
      "image/png": "[encoded data removed]",
      "text/plain": [
       "<Figure size 576x432 with 1 Axes>"
      ]
     },
     "metadata": {
      "needs_background": "light"
     },
     "output_type": "display_data"
    }
   ],
   "source": [
    "r_forest = RandomForestClassifier()  \n",
    "r_forest.fit(X_train, y_train)       \n",
    "y_pred = r_forest.predict(X_test)   \n",
    "\n",
    "make_graphic(r_forest, 1, X_test, y_test)"
   ]
  },
  {
   "cell_type": "markdown",
   "id": "197c6252",
   "metadata": {},
   "source": [
    "### 4.2 Metrics of our model Random Forest"
   ]
  },
  {
   "cell_type": "code",
   "execution_count": 6,
   "id": "98bdbacd",
   "metadata": {},
   "outputs": [
    {
     "name": "stdout",
     "output_type": "stream",
     "text": [
      "\n",
      "Confusion matrix : \n",
      " [[17  0  0]\n",
      " [ 0 14  3]\n",
      " [ 0  2 14]]\n",
      "\n",
      "\n",
      "Classification report:\n",
      "\n",
      "               precision    recall  f1-score   support\n",
      "\n",
      "           0       1.00      1.00      1.00        17\n",
      "           1       0.88      0.82      0.85        17\n",
      "           2       0.82      0.88      0.85        16\n",
      "\n",
      "    accuracy                           0.90        50\n",
      "   macro avg       0.90      0.90      0.90        50\n",
      "weighted avg       0.90      0.90      0.90        50\n",
      "\n"
     ]
    }
   ],
   "source": [
    "print(\"\\nConfusion matrix : \\n\", confusion_matrix(y_test, y_pred))\n",
    "print(\"\\n\\nClassification report:\\n\\n\", classification_report(y_test, y_pred))"
   ]
  },
  {
   "cell_type": "markdown",
   "id": "6e318ec8",
   "metadata": {},
   "source": [
    "### 5.1 Naive Bayes"
   ]
  },
  {
   "cell_type": "code",
   "execution_count": 7,
   "id": "6b5924bd",
   "metadata": {},
   "outputs": [
    {
     "data": {
      "image/png": "[encoded data removed]",
      "text/plain": [
       "<Figure size 576x432 with 1 Axes>"
      ]
     },
     "metadata": {
      "needs_background": "light"
     },
     "output_type": "display_data"
    }
   ],
   "source": [
    "n_bayes = GaussianNB()\n",
    "n_bayes.fit(X_train, y_train)\n",
    "y_pred = n_bayes.predict(X_test)   \n",
    "\n",
    "make_graphic(n_bayes, 2, X_test, y_test)"
   ]
  },
  {
   "cell_type": "markdown",
   "id": "11b5bbc2",
   "metadata": {},
   "source": [
    "### 5.2 Metrics of our model Naive Bayes"
   ]
  },
  {
   "cell_type": "code",
   "execution_count": 8,
   "id": "bd12cac9",
   "metadata": {},
   "outputs": [
    {
     "name": "stdout",
     "output_type": "stream",
     "text": [
      "\n",
      "Confusion matrix : \n",
      " [[17  0  0]\n",
      " [ 0 14  3]\n",
      " [ 0  5 11]]\n",
      "\n",
      "\n",
      "Classification report:\n",
      "\n",
      "               precision    recall  f1-score   support\n",
      "\n",
      "           0       1.00      1.00      1.00        17\n",
      "           1       0.74      0.82      0.78        17\n",
      "           2       0.79      0.69      0.73        16\n",
      "\n",
      "    accuracy                           0.84        50\n",
      "   macro avg       0.84      0.84      0.84        50\n",
      "weighted avg       0.84      0.84      0.84        50\n",
      "\n"
     ]
    }
   ],
   "source": [
    "print(\"\\nConfusion matrix : \\n\", confusion_matrix(y_test, y_pred))\n",
    "print(\"\\n\\nClassification report:\\n\\n\", classification_report(y_test, y_pred))"
   ]
  },
  {
   "cell_type": "code",
   "execution_count": null,
   "id": "64e97e80",
   "metadata": {},
   "outputs": [],
   "source": []
  }
 ],
 "metadata": {
  "kernelspec": {
   "display_name": "Python 3 (ipykernel)",
   "language": "python",
   "name": "python3"
  },
  "language_info": {
   "codemirror_mode": {
    "name": "ipython",
    "version": 3
   },
   "file_extension": ".py",
   "mimetype": "text/x-python",
   "name": "python",
   "nbconvert_exporter": "python",
   "pygments_lexer": "ipython3",
   "version": "3.9.12"
  }
 },
 "nbformat": 4,
 "nbformat_minor": 5
}
